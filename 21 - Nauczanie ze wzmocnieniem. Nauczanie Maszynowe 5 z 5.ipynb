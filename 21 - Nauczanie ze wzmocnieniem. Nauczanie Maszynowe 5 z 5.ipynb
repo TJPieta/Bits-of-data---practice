{
 "cells": [
  {
   "cell_type": "markdown",
   "id": "0eb63d41-a2cd-4895-86f4-49fc0f11200e",
   "metadata": {},
   "source": [
    "## Kółko i krzyżyk"
   ]
  },
  {
   "cell_type": "code",
   "execution_count": 2,
   "id": "0a352e27-30f6-4287-801f-7b2f2aef2ee4",
   "metadata": {},
   "outputs": [],
   "source": [
    "def cell(x):\n",
    "    try:\n",
    "        if x.lower() == 'x':\n",
    "            return \" X \"\n",
    "        if x.lower() == 'o':\n",
    "            return \" O \"\n",
    "    except:\n",
    "        pass\n",
    "    return \"   \""
   ]
  },
  {
   "cell_type": "code",
   "execution_count": 3,
   "id": "f70b5a9d-f52f-4704-8e2b-9dd1008c7623",
   "metadata": {},
   "outputs": [],
   "source": [
    "def print_state(state):\n",
    "    sep = \"__\"*11+\"\\n\"\n",
    "    ret = []\n",
    "    n=0\n",
    "    for row in state:\n",
    "        ret.append(\"|\".join(map(cell, row)))\n",
    "        n+=1\n",
    "        if n <3:\n",
    "            ret.append(sep)\n",
    "    for line in ret:\n",
    "        print(line)"
   ]
  },
  {
   "cell_type": "code",
   "execution_count": 5,
   "id": "c135c206-3848-497e-98af-e5a8712e084e",
   "metadata": {},
   "outputs": [
    {
     "name": "stdout",
     "output_type": "stream",
     "text": [
      " X | O |   \n",
      "______________________\n",
      "\n",
      " O | X |   \n",
      "______________________\n",
      "\n",
      "   | O | X \n"
     ]
    }
   ],
   "source": [
    "state = (('x','o',0.0),\n",
    "         ('o','x',0.0),\n",
    "         (0.0,'o','x'))\n",
    "print_state(state)"
   ]
  },
  {
   "cell_type": "code",
   "execution_count": null,
   "id": "3528e381-a535-4ae4-8ef2-eecb814f2de1",
   "metadata": {},
   "outputs": [],
   "source": [
    "def has_won(state):\n",
    "    players = ['x', 'o']\n",
    "    for i in [0,1]:\n",
    "        for row in state:\n",
    "            if row == tuple(players[i]*3): #_\n",
    "                return i, True\n",
    "        for cols in [0, 1, 2]:\n",
    "            if state[0][cols] == state[1][cols] and state[2][cols]==state[0][cols] and state[0][cols] == players[i]: # /\n",
    "                return i, True\n",
    "        if state[0][0]==state[1][1] and state[0][0]==state[2][2] and state[0][0]==players[i]: # \\\n",
    "            return i, True\n",
    "        if state[2][0]==state[1][1] and state[2][0]==state[0][2] and state[0][2]==players[i]:  #/\n",
    "            return i, True\n",
    "\n",
    "    return -1, False\n",
    "\n",
    "\n"
   ]
  }
 ],
 "metadata": {
  "kernelspec": {
   "display_name": "Python 3 (ipykernel)",
   "language": "python",
   "name": "python3"
  },
  "language_info": {
   "codemirror_mode": {
    "name": "ipython",
    "version": 3
   },
   "file_extension": ".py",
   "mimetype": "text/x-python",
   "name": "python",
   "nbconvert_exporter": "python",
   "pygments_lexer": "ipython3",
   "version": "3.10.13"
  }
 },
 "nbformat": 4,
 "nbformat_minor": 5
}
